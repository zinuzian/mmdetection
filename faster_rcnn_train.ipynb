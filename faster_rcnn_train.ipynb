{
 "cells": [
  {
   "cell_type": "code",
   "execution_count": 2,
   "metadata": {},
   "outputs": [],
   "source": [
    "# 모듈 import\n",
    "\n",
    "from mmcv import Config\n",
    "from mmdet.datasets import build_dataset\n",
    "from mmdet.models import build_detector\n",
    "from mmdet.apis import train_detector\n",
    "from mmdet.datasets import (build_dataloader, build_dataset,\n",
    "                            replace_ImageToTensor)"
   ]
  },
  {
   "cell_type": "code",
   "execution_count": 3,
   "metadata": {},
   "outputs": [],
   "source": [
    "classes = (\"General trash\", \"Paper\", \"Paper pack\", \"Metal\", \"Glass\", \n",
    "           \"Plastic\", \"Styrofoam\", \"Plastic bag\", \"Battery\", \"Clothing\")\n",
    "\n",
    "# config file 들고오기\n",
    "cfg = Config.fromfile('./configs/faster_rcnn/faster_rcnn_r50_fpn_1x_coco.py')\n",
    "\n",
    "root='../dataset/'\n",
    "\n",
    "# dataset config 수정\n",
    "cfg.data.train.classes = classes\n",
    "cfg.data.train.img_prefix = root\n",
    "cfg.data.train.ann_file = root + 'train.json' # train json 정보\n",
    "cfg.data.train.pipeline[2]['img_scale'] = (512,512) # Resize\n",
    "\n",
    "cfg.data.test.classes = classes\n",
    "cfg.data.test.img_prefix = root\n",
    "cfg.data.test.ann_file = root + 'test.json' # test json 정보\n",
    "cfg.data.test.pipeline[1]['img_scale'] = (512,512) # Resize\n",
    "\n",
    "cfg.data.samples_per_gpu = 4\n",
    "\n",
    "cfg.seed = 2021\n",
    "cfg.gpu_ids = [0]\n",
    "cfg.work_dir = './work_dirs/faster_rcnn_r50_fpn_1x_trash'\n",
    "\n",
    "cfg.model.roi_head.bbox_head.num_classes = 10\n",
    "\n",
    "cfg.optimizer_config.grad_clip = dict(max_norm=35, norm_type=2)\n",
    "cfg.checkpoint_config = dict(max_keep_ckpts=3, interval=1)"
   ]
  },
  {
   "cell_type": "code",
   "execution_count": 5,
   "metadata": {
    "tags": []
   },
   "outputs": [
    {
     "output_type": "stream",
     "name": "stdout",
     "text": "loading annotations into memory...\nDone (t=0.05s)\ncreating index...\nindex created!\n"
    }
   ],
   "source": [
    "# build_dataset\n",
    "datasets = [build_dataset(cfg.data.train)]"
   ]
  },
  {
   "cell_type": "code",
   "execution_count": 6,
   "metadata": {},
   "outputs": [
    {
     "output_type": "execute_result",
     "data": {
      "text/plain": "\nCocoDataset Train dataset with number of images 4883, and instance counts: \n+-------------------+-------+---------------+-------+-----------------+-------+-------------+-------+--------------+-------+\n| category          | count | category      | count | category        | count | category    | count | category     | count |\n+-------------------+-------+---------------+-------+-----------------+-------+-------------+-------+--------------+-------+\n| 0 [General trash] | 3965  | 1 [Paper]     | 6352  | 2 [Paper pack]  | 897   | 3 [Metal]   | 936   | 4 [Glass]    | 982   |\n| 5 [Plastic]       | 2943  | 6 [Styrofoam] | 1263  | 7 [Plastic bag] | 5178  | 8 [Battery] | 159   | 9 [Clothing] | 468   |\n+-------------------+-------+---------------+-------+-----------------+-------+-------------+-------+--------------+-------+"
     },
     "metadata": {},
     "execution_count": 6
    }
   ],
   "source": [
    "# dataset 확인\n",
    "datasets[0]"
   ]
  },
  {
   "cell_type": "code",
   "execution_count": 7,
   "metadata": {
    "tags": []
   },
   "outputs": [
    {
     "output_type": "stream",
     "name": "stderr",
     "text": "2022-05-13 22:52:17,826 - mmcv - INFO - initialize ResNet with init_cfg {'type': 'Pretrained', 'checkpoint': 'torchvision://resnet50'}\n2022-05-13 22:52:17,827 - mmcv - INFO - load model from: torchvision://resnet50\n2022-05-13 22:52:17,827 - mmcv - INFO - load checkpoint from torchvision path: torchvision://resnet50\nDownloading: \"https://download.pytorch.org/models/resnet50-19c8e357.pth\" to /home/jjw/.cache/torch/hub/checkpoints/resnet50-19c8e357.pth\n24.0%IOPub message rate exceeded.\nThe notebook server will temporarily stop sending output\nto the client in order to avoid crashing it.\nTo change this limit, set the config variable\n`--NotebookApp.iopub_msg_rate_limit`.\n\nCurrent values:\nNotebookApp.iopub_msg_rate_limit=1000.0 (msgs/sec)\nNotebookApp.rate_limit_window=3.0 (secs)\n\n88.4%IOPub message rate exceeded.\nThe notebook server will temporarily stop sending output\nto the client in order to avoid crashing it.\nTo change this limit, set the config variable\n`--NotebookApp.iopub_msg_rate_limit`.\n\nCurrent values:\nNotebookApp.iopub_msg_rate_limit=1000.0 (msgs/sec)\nNotebookApp.rate_limit_window=3.0 (secs)\n\n"
    }
   ],
   "source": [
    "# 모델 build 및 pretrained network 불러오기\n",
    "model = build_detector(cfg.model)\n",
    "model.init_weights()"
   ]
  },
  {
   "cell_type": "code",
   "execution_count": 8,
   "metadata": {
    "tags": [
     "outputPrepend"
    ]
   },
   "outputs": [
    {
     "output_type": "stream",
     "name": "stderr",
     "text": "228, data_time: 0.003, memory: 2099, loss_rpn_cls: 0.0195, loss_rpn_bbox: 0.0281, loss_cls: 0.1872, acc: 94.0088, loss_bbox: 0.1719, loss: 0.4068, grad_norm: 1.6283\n2022-05-13 23:41:34,979 - mmdet - INFO - Epoch [9][1150/1221]\tlr: 2.000e-03, eta: 0:16:10, time: 0.228, data_time: 0.003, memory: 2099, loss_rpn_cls: 0.0204, loss_rpn_bbox: 0.0207, loss_cls: 0.1779, acc: 94.5176, loss_bbox: 0.1553, loss: 0.3742, grad_norm: 1.6588\n2022-05-13 23:41:46,439 - mmdet - INFO - Epoch [9][1200/1221]\tlr: 2.000e-03, eta: 0:15:57, time: 0.229, data_time: 0.003, memory: 2099, loss_rpn_cls: 0.0245, loss_rpn_bbox: 0.0280, loss_cls: 0.2033, acc: 93.7275, loss_bbox: 0.1887, loss: 0.4444, grad_norm: 1.7989\n2022-05-13 23:41:51,250 - mmdet - INFO - Saving checkpoint at 9 epochs\n2022-05-13 23:42:05,603 - mmdet - INFO - Epoch [10][50/1221]\tlr: 2.000e-03, eta: 0:15:36, time: 0.273, data_time: 0.047, memory: 2099, loss_rpn_cls: 0.0218, loss_rpn_bbox: 0.0266, loss_cls: 0.1948, acc: 93.8633, loss_bbox: 0.1836, loss: 0.4269, grad_norm: 1.7154\n2022-05-13 23:42:17,061 - mmdet - INFO - Epoch [10][100/1221]\tlr: 2.000e-03, eta: 0:15:23, time: 0.229, data_time: 0.003, memory: 2099, loss_rpn_cls: 0.0186, loss_rpn_bbox: 0.0253, loss_cls: 0.1783, acc: 94.2959, loss_bbox: 0.1783, loss: 0.4005, grad_norm: 1.5817\n2022-05-13 23:42:28,552 - mmdet - INFO - Epoch [10][150/1221]\tlr: 2.000e-03, eta: 0:15:10, time: 0.230, data_time: 0.003, memory: 2099, loss_rpn_cls: 0.0200, loss_rpn_bbox: 0.0243, loss_cls: 0.1781, acc: 94.2900, loss_bbox: 0.1755, loss: 0.3979, grad_norm: 1.6738\n2022-05-13 23:42:40,027 - mmdet - INFO - Epoch [10][200/1221]\tlr: 2.000e-03, eta: 0:14:56, time: 0.230, data_time: 0.003, memory: 2099, loss_rpn_cls: 0.0163, loss_rpn_bbox: 0.0248, loss_cls: 0.1801, acc: 94.3047, loss_bbox: 0.1781, loss: 0.3993, grad_norm: 1.7143\n2022-05-13 23:42:51,768 - mmdet - INFO - Epoch [10][250/1221]\tlr: 2.000e-03, eta: 0:14:43, time: 0.235, data_time: 0.003, memory: 2099, loss_rpn_cls: 0.0174, loss_rpn_bbox: 0.0197, loss_cls: 0.1635, acc: 94.7871, loss_bbox: 0.1450, loss: 0.3456, grad_norm: 1.6460\n2022-05-13 23:43:03,246 - mmdet - INFO - Epoch [10][300/1221]\tlr: 2.000e-03, eta: 0:14:30, time: 0.230, data_time: 0.003, memory: 2099, loss_rpn_cls: 0.0216, loss_rpn_bbox: 0.0286, loss_cls: 0.1893, acc: 93.8799, loss_bbox: 0.1823, loss: 0.4217, grad_norm: 1.7521\n2022-05-13 23:43:14,761 - mmdet - INFO - Epoch [10][350/1221]\tlr: 2.000e-03, eta: 0:14:16, time: 0.230, data_time: 0.003, memory: 2099, loss_rpn_cls: 0.0214, loss_rpn_bbox: 0.0245, loss_cls: 0.1752, acc: 94.3643, loss_bbox: 0.1649, loss: 0.3860, grad_norm: 1.7339\n2022-05-13 23:43:26,185 - mmdet - INFO - Epoch [10][400/1221]\tlr: 2.000e-03, eta: 0:14:03, time: 0.228, data_time: 0.003, memory: 2099, loss_rpn_cls: 0.0214, loss_rpn_bbox: 0.0274, loss_cls: 0.2115, acc: 93.1816, loss_bbox: 0.2068, loss: 0.4671, grad_norm: 1.9216\n2022-05-13 23:43:37,638 - mmdet - INFO - Epoch [10][450/1221]\tlr: 2.000e-03, eta: 0:13:49, time: 0.229, data_time: 0.003, memory: 2099, loss_rpn_cls: 0.0185, loss_rpn_bbox: 0.0218, loss_cls: 0.1727, acc: 94.4775, loss_bbox: 0.1688, loss: 0.3819, grad_norm: 1.6239\n2022-05-13 23:43:49,218 - mmdet - INFO - Epoch [10][500/1221]\tlr: 2.000e-03, eta: 0:13:36, time: 0.232, data_time: 0.003, memory: 2099, loss_rpn_cls: 0.0233, loss_rpn_bbox: 0.0312, loss_cls: 0.1832, acc: 94.0674, loss_bbox: 0.1800, loss: 0.4177, grad_norm: 1.7405\n2022-05-13 23:44:01,107 - mmdet - INFO - Epoch [10][550/1221]\tlr: 2.000e-03, eta: 0:13:23, time: 0.238, data_time: 0.003, memory: 2099, loss_rpn_cls: 0.0211, loss_rpn_bbox: 0.0254, loss_cls: 0.1982, acc: 93.7197, loss_bbox: 0.1818, loss: 0.4265, grad_norm: 1.8293\n2022-05-13 23:44:12,578 - mmdet - INFO - Epoch [10][600/1221]\tlr: 2.000e-03, eta: 0:13:10, time: 0.229, data_time: 0.003, memory: 2099, loss_rpn_cls: 0.0219, loss_rpn_bbox: 0.0244, loss_cls: 0.2007, acc: 93.5996, loss_bbox: 0.1920, loss: 0.4390, grad_norm: 1.7730\n2022-05-13 23:44:24,115 - mmdet - INFO - Epoch [10][650/1221]\tlr: 2.000e-03, eta: 0:12:56, time: 0.231, data_time: 0.003, memory: 2099, loss_rpn_cls: 0.0200, loss_rpn_bbox: 0.0225, loss_cls: 0.1946, acc: 93.9072, loss_bbox: 0.1710, loss: 0.4080, grad_norm: 1.7409\n2022-05-13 23:44:35,572 - mmdet - INFO - Epoch [10][700/1221]\tlr: 2.000e-03, eta: 0:12:43, time: 0.229, data_time: 0.003, memory: 2099, loss_rpn_cls: 0.0208, loss_rpn_bbox: 0.0252, loss_cls: 0.1810, acc: 94.1680, loss_bbox: 0.1773, loss: 0.4042, grad_norm: 1.7831\n2022-05-13 23:44:47,091 - mmdet - INFO - Epoch [10][750/1221]\tlr: 2.000e-03, eta: 0:12:30, time: 0.230, data_time: 0.003, memory: 2099, loss_rpn_cls: 0.0170, loss_rpn_bbox: 0.0264, loss_cls: 0.1832, acc: 94.1689, loss_bbox: 0.1795, loss: 0.4060, grad_norm: 1.7578\n2022-05-13 23:44:58,620 - mmdet - INFO - Epoch [10][800/1221]\tlr: 2.000e-03, eta: 0:12:17, time: 0.231, data_time: 0.003, memory: 2099, loss_rpn_cls: 0.0167, loss_rpn_bbox: 0.0222, loss_cls: 0.1726, acc: 94.3838, loss_bbox: 0.1675, loss: 0.3790, grad_norm: 1.7005\n2022-05-13 23:45:10,059 - mmdet - INFO - Epoch [10][850/1221]\tlr: 2.000e-03, eta: 0:12:04, time: 0.229, data_time: 0.003, memory: 2099, loss_rpn_cls: 0.0184, loss_rpn_bbox: 0.0248, loss_cls: 0.1721, acc: 94.6377, loss_bbox: 0.1661, loss: 0.3813, grad_norm: 1.7055\n2022-05-13 23:45:21,493 - mmdet - INFO - Epoch [10][900/1221]\tlr: 2.000e-03, eta: 0:11:50, time: 0.229, data_time: 0.003, memory: 2099, loss_rpn_cls: 0.0197, loss_rpn_bbox: 0.0262, loss_cls: 0.1852, acc: 94.0371, loss_bbox: 0.1806, loss: 0.4116, grad_norm: 1.7947\n2022-05-13 23:45:33,073 - mmdet - INFO - Epoch [10][950/1221]\tlr: 2.000e-03, eta: 0:11:37, time: 0.232, data_time: 0.003, memory: 2099, loss_rpn_cls: 0.0248, loss_rpn_bbox: 0.0284, loss_cls: 0.1809, acc: 94.2598, loss_bbox: 0.1797, loss: 0.4137, grad_norm: 1.8692\n2022-05-13 23:45:44,514 - mmdet - INFO - Epoch [10][1000/1221]\tlr: 2.000e-03, eta: 0:11:24, time: 0.229, data_time: 0.003, memory: 2099, loss_rpn_cls: 0.0220, loss_rpn_bbox: 0.0293, loss_cls: 0.1888, acc: 93.9873, loss_bbox: 0.1832, loss: 0.4233, grad_norm: 1.8297\n2022-05-13 23:45:55,956 - mmdet - INFO - Epoch [10][1050/1221]\tlr: 2.000e-03, eta: 0:11:11, time: 0.229, data_time: 0.003, memory: 2099, loss_rpn_cls: 0.0236, loss_rpn_bbox: 0.0256, loss_cls: 0.1944, acc: 93.7764, loss_bbox: 0.1781, loss: 0.4217, grad_norm: 1.8307\n2022-05-13 23:46:07,466 - mmdet - INFO - Epoch [10][1100/1221]\tlr: 2.000e-03, eta: 0:10:58, time: 0.230, data_time: 0.003, memory: 2099, loss_rpn_cls: 0.0176, loss_rpn_bbox: 0.0208, loss_cls: 0.1912, acc: 93.8193, loss_bbox: 0.1811, loss: 0.4107, grad_norm: 1.8994\n2022-05-13 23:46:18,979 - mmdet - INFO - Epoch [10][1150/1221]\tlr: 2.000e-03, eta: 0:10:45, time: 0.230, data_time: 0.003, memory: 2099, loss_rpn_cls: 0.0205, loss_rpn_bbox: 0.0265, loss_cls: 0.1907, acc: 93.7490, loss_bbox: 0.1843, loss: 0.4220, grad_norm: 1.8162\n2022-05-13 23:46:30,407 - mmdet - INFO - Epoch [10][1200/1221]\tlr: 2.000e-03, eta: 0:10:31, time: 0.229, data_time: 0.003, memory: 2099, loss_rpn_cls: 0.0191, loss_rpn_bbox: 0.0247, loss_cls: 0.1726, acc: 94.5596, loss_bbox: 0.1583, loss: 0.3747, grad_norm: 1.7184\n2022-05-13 23:46:35,250 - mmdet - INFO - Saving checkpoint at 10 epochs\n2022-05-13 23:46:49,552 - mmdet - INFO - Epoch [11][50/1221]\tlr: 2.000e-03, eta: 0:10:12, time: 0.274, data_time: 0.047, memory: 2099, loss_rpn_cls: 0.0175, loss_rpn_bbox: 0.0273, loss_cls: 0.1668, acc: 94.5352, loss_bbox: 0.1656, loss: 0.3772, grad_norm: 1.6801\n2022-05-13 23:47:01,086 - mmdet - INFO - Epoch [11][100/1221]\tlr: 2.000e-03, eta: 0:09:59, time: 0.231, data_time: 0.003, memory: 2099, loss_rpn_cls: 0.0169, loss_rpn_bbox: 0.0234, loss_cls: 0.1693, acc: 94.6406, loss_bbox: 0.1633, loss: 0.3729, grad_norm: 1.6398\n2022-05-13 23:47:12,500 - mmdet - INFO - Epoch [11][150/1221]\tlr: 2.000e-03, eta: 0:09:46, time: 0.228, data_time: 0.003, memory: 2099, loss_rpn_cls: 0.0210, loss_rpn_bbox: 0.0265, loss_cls: 0.1654, acc: 94.6719, loss_bbox: 0.1761, loss: 0.3890, grad_norm: 1.6760\n2022-05-13 23:47:24,003 - mmdet - INFO - Epoch [11][200/1221]\tlr: 2.000e-03, eta: 0:09:33, time: 0.230, data_time: 0.003, memory: 2099, loss_rpn_cls: 0.0162, loss_rpn_bbox: 0.0207, loss_cls: 0.1564, acc: 95.0176, loss_bbox: 0.1542, loss: 0.3475, grad_norm: 1.7172\n2022-05-13 23:47:35,499 - mmdet - INFO - Epoch [11][250/1221]\tlr: 2.000e-03, eta: 0:09:20, time: 0.230, data_time: 0.003, memory: 2099, loss_rpn_cls: 0.0177, loss_rpn_bbox: 0.0267, loss_cls: 0.1855, acc: 94.0947, loss_bbox: 0.1774, loss: 0.4073, grad_norm: 1.8267\n2022-05-13 23:47:47,085 - mmdet - INFO - Epoch [11][300/1221]\tlr: 2.000e-03, eta: 0:09:07, time: 0.232, data_time: 0.003, memory: 2099, loss_rpn_cls: 0.0176, loss_rpn_bbox: 0.0228, loss_cls: 0.1721, acc: 94.5645, loss_bbox: 0.1629, loss: 0.3755, grad_norm: 1.8062\n2022-05-13 23:47:58,706 - mmdet - INFO - Epoch [11][350/1221]\tlr: 2.000e-03, eta: 0:08:54, time: 0.232, data_time: 0.003, memory: 2099, loss_rpn_cls: 0.0199, loss_rpn_bbox: 0.0254, loss_cls: 0.1726, acc: 94.3438, loss_bbox: 0.1759, loss: 0.3938, grad_norm: 1.7582\n2022-05-13 23:48:10,327 - mmdet - INFO - Epoch [11][400/1221]\tlr: 2.000e-03, eta: 0:08:41, time: 0.232, data_time: 0.003, memory: 2099, loss_rpn_cls: 0.0185, loss_rpn_bbox: 0.0266, loss_cls: 0.1860, acc: 94.0947, loss_bbox: 0.1858, loss: 0.4169, grad_norm: 1.8526\n2022-05-13 23:48:21,944 - mmdet - INFO - Epoch [11][450/1221]\tlr: 2.000e-03, eta: 0:08:28, time: 0.232, data_time: 0.003, memory: 2099, loss_rpn_cls: 0.0189, loss_rpn_bbox: 0.0227, loss_cls: 0.1668, acc: 94.5889, loss_bbox: 0.1630, loss: 0.3714, grad_norm: 1.7497\n2022-05-13 23:48:33,517 - mmdet - INFO - Epoch [11][500/1221]\tlr: 2.000e-03, eta: 0:08:15, time: 0.231, data_time: 0.003, memory: 2099, loss_rpn_cls: 0.0167, loss_rpn_bbox: 0.0242, loss_cls: 0.1785, acc: 94.4219, loss_bbox: 0.1714, loss: 0.3908, grad_norm: 1.8258\n2022-05-13 23:48:45,103 - mmdet - INFO - Epoch [11][550/1221]\tlr: 2.000e-03, eta: 0:08:02, time: 0.232, data_time: 0.003, memory: 2099, loss_rpn_cls: 0.0190, loss_rpn_bbox: 0.0254, loss_cls: 0.1807, acc: 94.1855, loss_bbox: 0.1797, loss: 0.4048, grad_norm: 1.8082\n2022-05-13 23:48:56,654 - mmdet - INFO - Epoch [11][600/1221]\tlr: 2.000e-03, eta: 0:07:49, time: 0.231, data_time: 0.003, memory: 2099, loss_rpn_cls: 0.0196, loss_rpn_bbox: 0.0259, loss_cls: 0.1753, acc: 94.4062, loss_bbox: 0.1738, loss: 0.3946, grad_norm: 1.7600\n2022-05-13 23:49:08,495 - mmdet - INFO - Epoch [11][650/1221]\tlr: 2.000e-03, eta: 0:07:37, time: 0.237, data_time: 0.004, memory: 2099, loss_rpn_cls: 0.0186, loss_rpn_bbox: 0.0267, loss_cls: 0.1885, acc: 93.9092, loss_bbox: 0.1892, loss: 0.4229, grad_norm: 1.8282\n2022-05-13 23:49:20,175 - mmdet - INFO - Epoch [11][700/1221]\tlr: 2.000e-03, eta: 0:07:24, time: 0.234, data_time: 0.003, memory: 2099, loss_rpn_cls: 0.0188, loss_rpn_bbox: 0.0230, loss_cls: 0.1596, acc: 94.9824, loss_bbox: 0.1520, loss: 0.3534, grad_norm: 1.7852\n2022-05-13 23:49:31,754 - mmdet - INFO - Epoch [11][750/1221]\tlr: 2.000e-03, eta: 0:07:11, time: 0.232, data_time: 0.004, memory: 2099, loss_rpn_cls: 0.0196, loss_rpn_bbox: 0.0239, loss_cls: 0.1780, acc: 94.2314, loss_bbox: 0.1728, loss: 0.3944, grad_norm: 1.9154\n2022-05-13 23:49:43,416 - mmdet - INFO - Epoch [11][800/1221]\tlr: 2.000e-03, eta: 0:06:58, time: 0.233, data_time: 0.003, memory: 2099, loss_rpn_cls: 0.0225, loss_rpn_bbox: 0.0300, loss_cls: 0.1880, acc: 93.8525, loss_bbox: 0.1887, loss: 0.4293, grad_norm: 1.8170\n2022-05-13 23:49:55,015 - mmdet - INFO - Epoch [11][850/1221]\tlr: 2.000e-03, eta: 0:06:45, time: 0.232, data_time: 0.003, memory: 2099, loss_rpn_cls: 0.0184, loss_rpn_bbox: 0.0199, loss_cls: 0.1672, acc: 94.5693, loss_bbox: 0.1665, loss: 0.3720, grad_norm: 1.8428\n2022-05-13 23:50:06,445 - mmdet - INFO - Epoch [11][900/1221]\tlr: 2.000e-03, eta: 0:06:32, time: 0.229, data_time: 0.003, memory: 2099, loss_rpn_cls: 0.0166, loss_rpn_bbox: 0.0219, loss_cls: 0.1553, acc: 94.9873, loss_bbox: 0.1557, loss: 0.3494, grad_norm: 1.7485\n2022-05-13 23:50:17,929 - mmdet - INFO - Epoch [11][950/1221]\tlr: 2.000e-03, eta: 0:06:19, time: 0.230, data_time: 0.003, memory: 2099, loss_rpn_cls: 0.0203, loss_rpn_bbox: 0.0260, loss_cls: 0.1849, acc: 94.0205, loss_bbox: 0.1782, loss: 0.4094, grad_norm: 1.9385\n2022-05-13 23:50:29,407 - mmdet - INFO - Epoch [11][1000/1221]\tlr: 2.000e-03, eta: 0:06:06, time: 0.230, data_time: 0.003, memory: 2099, loss_rpn_cls: 0.0149, loss_rpn_bbox: 0.0206, loss_cls: 0.1738, acc: 94.4609, loss_bbox: 0.1692, loss: 0.3784, grad_norm: 1.8634\n2022-05-13 23:50:40,868 - mmdet - INFO - Epoch [11][1050/1221]\tlr: 2.000e-03, eta: 0:05:54, time: 0.229, data_time: 0.003, memory: 2099, loss_rpn_cls: 0.0204, loss_rpn_bbox: 0.0287, loss_cls: 0.1853, acc: 93.9893, loss_bbox: 0.1806, loss: 0.4149, grad_norm: 1.8455\n2022-05-13 23:50:52,356 - mmdet - INFO - Epoch [11][1100/1221]\tlr: 2.000e-03, eta: 0:05:41, time: 0.230, data_time: 0.003, memory: 2099, loss_rpn_cls: 0.0179, loss_rpn_bbox: 0.0250, loss_cls: 0.1774, acc: 94.3594, loss_bbox: 0.1777, loss: 0.3980, grad_norm: 1.9115\n2022-05-13 23:51:03,988 - mmdet - INFO - Epoch [11][1150/1221]\tlr: 2.000e-03, eta: 0:05:28, time: 0.233, data_time: 0.004, memory: 2099, loss_rpn_cls: 0.0187, loss_rpn_bbox: 0.0257, loss_cls: 0.1733, acc: 94.1816, loss_bbox: 0.1749, loss: 0.3926, grad_norm: 1.8824\n2022-05-13 23:51:15,519 - mmdet - INFO - Epoch [11][1200/1221]\tlr: 2.000e-03, eta: 0:05:15, time: 0.231, data_time: 0.003, memory: 2099, loss_rpn_cls: 0.0182, loss_rpn_bbox: 0.0247, loss_cls: 0.1848, acc: 94.1182, loss_bbox: 0.1789, loss: 0.4065, grad_norm: 1.9546\n2022-05-13 23:51:20,399 - mmdet - INFO - Saving checkpoint at 11 epochs\n2022-05-13 23:51:34,847 - mmdet - INFO - Epoch [12][50/1221]\tlr: 2.000e-04, eta: 0:04:57, time: 0.277, data_time: 0.048, memory: 2099, loss_rpn_cls: 0.0141, loss_rpn_bbox: 0.0233, loss_cls: 0.1501, acc: 94.9658, loss_bbox: 0.1604, loss: 0.3478, grad_norm: 1.6958\n2022-05-13 23:51:46,453 - mmdet - INFO - Epoch [12][100/1221]\tlr: 2.000e-04, eta: 0:04:44, time: 0.232, data_time: 0.004, memory: 2099, loss_rpn_cls: 0.0161, loss_rpn_bbox: 0.0219, loss_cls: 0.1616, acc: 94.7080, loss_bbox: 0.1642, loss: 0.3638, grad_norm: 1.7203\n2022-05-13 23:51:57,958 - mmdet - INFO - Epoch [12][150/1221]\tlr: 2.000e-04, eta: 0:04:31, time: 0.230, data_time: 0.004, memory: 2099, loss_rpn_cls: 0.0124, loss_rpn_bbox: 0.0173, loss_cls: 0.1422, acc: 95.4912, loss_bbox: 0.1321, loss: 0.3041, grad_norm: 1.6580\n2022-05-13 23:52:09,486 - mmdet - INFO - Epoch [12][200/1221]\tlr: 2.000e-04, eta: 0:04:18, time: 0.231, data_time: 0.004, memory: 2099, loss_rpn_cls: 0.0165, loss_rpn_bbox: 0.0278, loss_cls: 0.1832, acc: 93.8887, loss_bbox: 0.1971, loss: 0.4246, grad_norm: 1.8112\n2022-05-13 23:52:20,937 - mmdet - INFO - Epoch [12][250/1221]\tlr: 2.000e-04, eta: 0:04:06, time: 0.229, data_time: 0.003, memory: 2099, loss_rpn_cls: 0.0162, loss_rpn_bbox: 0.0231, loss_cls: 0.1499, acc: 95.1338, loss_bbox: 0.1498, loss: 0.3389, grad_norm: 1.6925\n2022-05-13 23:52:32,480 - mmdet - INFO - Epoch [12][300/1221]\tlr: 2.000e-04, eta: 0:03:53, time: 0.231, data_time: 0.004, memory: 2099, loss_rpn_cls: 0.0132, loss_rpn_bbox: 0.0192, loss_cls: 0.1496, acc: 95.1553, loss_bbox: 0.1478, loss: 0.3298, grad_norm: 1.6935\n2022-05-13 23:52:43,996 - mmdet - INFO - Epoch [12][350/1221]\tlr: 2.000e-04, eta: 0:03:40, time: 0.230, data_time: 0.004, memory: 2099, loss_rpn_cls: 0.0189, loss_rpn_bbox: 0.0256, loss_cls: 0.1714, acc: 94.3818, loss_bbox: 0.1841, loss: 0.4000, grad_norm: 1.7917\n2022-05-13 23:52:55,547 - mmdet - INFO - Epoch [12][400/1221]\tlr: 2.000e-04, eta: 0:03:27, time: 0.231, data_time: 0.003, memory: 2099, loss_rpn_cls: 0.0177, loss_rpn_bbox: 0.0270, loss_cls: 0.1753, acc: 94.3965, loss_bbox: 0.1812, loss: 0.4012, grad_norm: 1.7897\n2022-05-13 23:53:07,084 - mmdet - INFO - Epoch [12][450/1221]\tlr: 2.000e-04, eta: 0:03:15, time: 0.231, data_time: 0.003, memory: 2099, loss_rpn_cls: 0.0190, loss_rpn_bbox: 0.0241, loss_cls: 0.1701, acc: 94.5156, loss_bbox: 0.1791, loss: 0.3922, grad_norm: 1.7813\n2022-05-13 23:53:18,521 - mmdet - INFO - Epoch [12][500/1221]\tlr: 2.000e-04, eta: 0:03:02, time: 0.229, data_time: 0.003, memory: 2099, loss_rpn_cls: 0.0191, loss_rpn_bbox: 0.0246, loss_cls: 0.1624, acc: 94.7646, loss_bbox: 0.1728, loss: 0.3789, grad_norm: 1.7725\n2022-05-13 23:53:30,063 - mmdet - INFO - Epoch [12][550/1221]\tlr: 2.000e-04, eta: 0:02:49, time: 0.231, data_time: 0.003, memory: 2099, loss_rpn_cls: 0.0194, loss_rpn_bbox: 0.0264, loss_cls: 0.1800, acc: 94.3301, loss_bbox: 0.1739, loss: 0.3997, grad_norm: 1.8089\n2022-05-13 23:53:41,535 - mmdet - INFO - Epoch [12][600/1221]\tlr: 2.000e-04, eta: 0:02:37, time: 0.229, data_time: 0.004, memory: 2099, loss_rpn_cls: 0.0165, loss_rpn_bbox: 0.0223, loss_cls: 0.1529, acc: 94.9619, loss_bbox: 0.1665, loss: 0.3581, grad_norm: 1.7534\n2022-05-13 23:53:52,980 - mmdet - INFO - Epoch [12][650/1221]\tlr: 2.000e-04, eta: 0:02:24, time: 0.229, data_time: 0.003, memory: 2099, loss_rpn_cls: 0.0169, loss_rpn_bbox: 0.0295, loss_cls: 0.1979, acc: 93.5742, loss_bbox: 0.1976, loss: 0.4419, grad_norm: 1.9302\n2022-05-13 23:54:04,484 - mmdet - INFO - Epoch [12][700/1221]\tlr: 2.000e-04, eta: 0:02:11, time: 0.230, data_time: 0.004, memory: 2099, loss_rpn_cls: 0.0167, loss_rpn_bbox: 0.0258, loss_cls: 0.1687, acc: 94.4199, loss_bbox: 0.1703, loss: 0.3815, grad_norm: 1.7989\n2022-05-13 23:54:15,968 - mmdet - INFO - Epoch [12][750/1221]\tlr: 2.000e-04, eta: 0:01:58, time: 0.230, data_time: 0.003, memory: 2099, loss_rpn_cls: 0.0139, loss_rpn_bbox: 0.0212, loss_cls: 0.1555, acc: 94.9248, loss_bbox: 0.1613, loss: 0.3518, grad_norm: 1.6952\n2022-05-13 23:54:27,458 - mmdet - INFO - Epoch [12][800/1221]\tlr: 2.000e-04, eta: 0:01:46, time: 0.230, data_time: 0.004, memory: 2099, loss_rpn_cls: 0.0181, loss_rpn_bbox: 0.0250, loss_cls: 0.1626, acc: 94.8271, loss_bbox: 0.1703, loss: 0.3760, grad_norm: 1.7663\n2022-05-13 23:54:38,891 - mmdet - INFO - Epoch [12][850/1221]\tlr: 2.000e-04, eta: 0:01:33, time: 0.229, data_time: 0.003, memory: 2099, loss_rpn_cls: 0.0146, loss_rpn_bbox: 0.0216, loss_cls: 0.1563, acc: 95.0234, loss_bbox: 0.1686, loss: 0.3612, grad_norm: 1.7740\n2022-05-13 23:54:50,381 - mmdet - INFO - Epoch [12][900/1221]\tlr: 2.000e-04, eta: 0:01:21, time: 0.230, data_time: 0.003, memory: 2099, loss_rpn_cls: 0.0169, loss_rpn_bbox: 0.0250, loss_cls: 0.1690, acc: 94.5947, loss_bbox: 0.1687, loss: 0.3795, grad_norm: 1.7772\n2022-05-13 23:55:01,909 - mmdet - INFO - Epoch [12][950/1221]\tlr: 2.000e-04, eta: 0:01:08, time: 0.231, data_time: 0.003, memory: 2099, loss_rpn_cls: 0.0165, loss_rpn_bbox: 0.0257, loss_cls: 0.1651, acc: 94.6533, loss_bbox: 0.1696, loss: 0.3768, grad_norm: 1.8371\n2022-05-13 23:55:13,391 - mmdet - INFO - Epoch [12][1000/1221]\tlr: 2.000e-04, eta: 0:00:55, time: 0.230, data_time: 0.003, memory: 2099, loss_rpn_cls: 0.0147, loss_rpn_bbox: 0.0221, loss_cls: 0.1498, acc: 95.2764, loss_bbox: 0.1539, loss: 0.3404, grad_norm: 1.7119\n2022-05-13 23:55:24,848 - mmdet - INFO - Epoch [12][1050/1221]\tlr: 2.000e-04, eta: 0:00:43, time: 0.229, data_time: 0.003, memory: 2099, loss_rpn_cls: 0.0181, loss_rpn_bbox: 0.0270, loss_cls: 0.1710, acc: 94.4199, loss_bbox: 0.1781, loss: 0.3942, grad_norm: 1.8814\n2022-05-13 23:55:36,339 - mmdet - INFO - Epoch [12][1100/1221]\tlr: 2.000e-04, eta: 0:00:30, time: 0.230, data_time: 0.004, memory: 2099, loss_rpn_cls: 0.0151, loss_rpn_bbox: 0.0200, loss_cls: 0.1553, acc: 95.0801, loss_bbox: 0.1538, loss: 0.3442, grad_norm: 1.7810\n2022-05-13 23:55:47,810 - mmdet - INFO - Epoch [12][1150/1221]\tlr: 2.000e-04, eta: 0:00:17, time: 0.229, data_time: 0.003, memory: 2099, loss_rpn_cls: 0.0173, loss_rpn_bbox: 0.0223, loss_cls: 0.1610, acc: 94.7119, loss_bbox: 0.1696, loss: 0.3701, grad_norm: 1.8182\n2022-05-13 23:55:59,251 - mmdet - INFO - Epoch [12][1200/1221]\tlr: 2.000e-04, eta: 0:00:05, time: 0.229, data_time: 0.004, memory: 2099, loss_rpn_cls: 0.0154, loss_rpn_bbox: 0.0261, loss_cls: 0.1489, acc: 95.1152, loss_bbox: 0.1478, loss: 0.3382, grad_norm: 1.7452\n2022-05-13 23:56:04,173 - mmdet - INFO - Saving checkpoint at 12 epochs\n"
    }
   ],
   "source": [
    "# 모델 학습\n",
    "train_detector(model, datasets[0], cfg, distributed=False, validate=False)"
   ]
  },
  {
   "cell_type": "code",
   "execution_count": null,
   "metadata": {},
   "outputs": [],
   "source": []
  }
 ],
 "metadata": {
  "interpreter": {
   "hash": "980dec4bdc0f65d3f181e5891661df87e8769cde5e79cd54bc145a7f830b2685"
  },
  "kernelspec": {
   "display_name": "Python 3.7.13 64-bit",
   "language": "python",
   "name": "python371364bit6703653ddd1b4f01aadc83e9942d2767"
  },
  "language_info": {
   "codemirror_mode": {
    "name": "ipython",
    "version": 3
   },
   "file_extension": ".py",
   "mimetype": "text/x-python",
   "name": "python",
   "nbconvert_exporter": "python",
   "pygments_lexer": "ipython3",
   "version": "3.7.13-final"
  }
 },
 "nbformat": 4,
 "nbformat_minor": 4
}